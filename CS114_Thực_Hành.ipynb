{
  "nbformat": 4,
  "nbformat_minor": 0,
  "metadata": {
    "colab": {
      "provenance": [],
      "authorship_tag": "ABX9TyPfTp1ZYuHfezb6lGUhBcr3",
      "include_colab_link": true
    },
    "kernelspec": {
      "name": "python3",
      "display_name": "Python 3"
    },
    "language_info": {
      "name": "python"
    }
  },
  "cells": [
    {
      "cell_type": "markdown",
      "metadata": {
        "id": "view-in-github",
        "colab_type": "text"
      },
      "source": [
        "<a href=\"https://colab.research.google.com/github/Kevinzzz2004/CS114.P11/blob/main/CS114_Th%E1%BB%B1c_H%C3%A0nh.ipynb\" target=\"_parent\"><img src=\"https://colab.research.google.com/assets/colab-badge.svg\" alt=\"Open In Colab\"/></a>"
      ]
    },
    {
      "cell_type": "code",
      "execution_count": null,
      "metadata": {
        "id": "0mT7cyCo3Cld"
      },
      "outputs": [],
      "source": [
        "import pandas as pd\n",
        "\n",
        "data = pd.read_csv('input1.txt',encoding='unicode_escape', usecols = ['InvoiceDate','CustomerID'])\n",
        "\n",
        "data['InvoiceDate'] = pd.to_datetime(data['InvoiceDate'], format='%m/%d/%Y %H:%M', errors='coerce')\n",
        "\n",
        "latest_date = data.groupby('CustomerID')['InvoiceDate'].max().reset_index()\n",
        "\n",
        "earliest_date = latest_date['InvoiceDate'].min()\n",
        "\n",
        "latest_date['score'] = (latest_date['InvoiceDate'] - earliest_date).dt.days\n",
        "\n",
        "print(latest_date[['CustomerID', 'score']].to_string(index=False))"
      ]
    }
  ]
}